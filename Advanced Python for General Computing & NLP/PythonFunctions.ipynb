{
  "nbformat": 4,
  "nbformat_minor": 0,
  "metadata": {
    "colab": {
      "name": "PythonFunctions.ipynb",
      "provenance": [],
      "collapsed_sections": [],
      "authorship_tag": "ABX9TyOi4k18MhbzmAPW49v42H3S",
      "include_colab_link": true
    },
    "kernelspec": {
      "name": "python3",
      "display_name": "Python 3"
    }
  },
  "cells": [
    {
      "cell_type": "markdown",
      "metadata": {
        "id": "view-in-github",
        "colab_type": "text"
      },
      "source": [
        "<a href=\"https://colab.research.google.com/github/gkdivya/NLP_Notebooks/blob/main/Advanced%20Python%20for%20General%20Computing%20%26%20NLP/PythonFunctions.ipynb\" target=\"_parent\"><img src=\"https://colab.research.google.com/assets/colab-badge.svg\" alt=\"Open In Colab\"/></a>"
      ]
    },
    {
      "cell_type": "markdown",
      "metadata": {
        "id": "eb9IqU5R9luZ"
      },
      "source": [
        "# Advanced Python for General Computing & NLP"
      ]
    },
    {
      "cell_type": "code",
      "metadata": {
        "id": "cMVSNVKjpOGT"
      },
      "source": [
        "#Import libraries\n",
        "import numpy as np\n",
        "from urllib.request import urlopen\n",
        "from bs4 import BeautifulSoup\n",
        "from functools import reduce\n",
        "import random\n",
        "import string"
      ],
      "execution_count": null,
      "outputs": []
    },
    {
      "cell_type": "markdown",
      "metadata": {
        "id": "KkbiOlwy8CUE"
      },
      "source": [
        "### Lambda funtions"
      ]
    },
    {
      "cell_type": "markdown",
      "metadata": {
        "id": "rqHMn3E-7hrm"
      },
      "source": [
        "Function using list, filter, lambda that can tell whether a number is a Fibonacci number or not. A pre-calculated list is used to store fab numbers till 10000 is used\n"
      ]
    },
    {
      "cell_type": "code",
      "metadata": {
        "id": "-qoNiD8h7ZXa"
      },
      "source": [
        "#Fibonanaci numbers list\n",
        "fibonnaci_numbers = [0, 1, 1, 2, 3, 5, 8, 13, 21, 34, 55, 89, 144, 233, 377, 610, 987, 1597, 2584, 4181, 6765]\n",
        "\n",
        "#Checks whether a given number is fibonaci number or not\n",
        "check_fibonaccino = lambda number: True if number in fibonnaci_numbers else False\n",
        "\n",
        "#Using list filter lambda function to return list of numbers which are fibonnaci in a given list\n",
        "result = lambda numbers: list(filter(lambda number: True if number in fibonnaci_numbers else False, numbers)) "
      ],
      "execution_count": null,
      "outputs": []
    },
    {
      "cell_type": "code",
      "metadata": {
        "id": "xYce_izb94EV",
        "outputId": "85a02369-eea6-47e8-fecd-ec4b138deee8",
        "colab": {
          "base_uri": "https://localhost:8080/"
        }
      },
      "source": [
        "#Testing\n",
        "print(check_fibonaccino(7))\n",
        "print(check_fibonaccino(233))\n",
        "\n"
      ],
      "execution_count": 10,
      "outputs": [
        {
          "output_type": "stream",
          "text": [
            "False\n",
            "True\n"
          ],
          "name": "stdout"
        }
      ]
    },
    {
      "cell_type": "markdown",
      "metadata": {
        "id": "h6WQimO48WiM"
      },
      "source": [
        "### List Comprehensions"
      ]
    },
    {
      "cell_type": "markdown",
      "metadata": {
        "id": "349_Mx6d8VYs"
      },
      "source": [
        "Using list comprehension (and zip/lambda/etc if required) five different expressions are written"
      ]
    },
    {
      "cell_type": "code",
      "metadata": {
        "id": "cDniP0Xk8oIm"
      },
      "source": [
        "#1. add 2 iterables a and b such that a is even and b is odd\n",
        "add_even_odd = lambda a, b: [sum(i) for i in zip([i for i in a if i%2 == 0], [i for i in b if i%2 != 0])]\n",
        "\n",
        "#2. strips every vowel from a string provided (tsai>>t s)\n",
        "strip_vowels = lambda x: ' '.join(map(str, [char for char in  x if char not in 'aieou']))\n",
        "\n",
        "#3. acts like a ReLU function for a 1D array\n",
        "relu = lambda x: [max(num, 0) for num in x] \n",
        "\n",
        "#4. acts like a sigmoid function for a 1D array\n",
        "sigmoid = lambda x : [1/(1 + np.exp(-num)) for num in x]  \n",
        "\n",
        "#5. takes a small character string and shifts all characters by 5 (handle boundary conditions) tsai>>yxfn\n",
        "shift = lambda shift, string : ''.join(chr(ord('a') + (ord(char)-ord('a')+shift) % 26) for char in string)\n"
      ],
      "execution_count": null,
      "outputs": []
    },
    {
      "cell_type": "code",
      "metadata": {
        "id": "JAmqZFYXdJkK",
        "outputId": "ae0a23f1-310e-4df5-aa59-2393a40f5103",
        "colab": {
          "base_uri": "https://localhost:8080/"
        }
      },
      "source": [
        "#Testing\n",
        "print(add_even_odd([1,2,3,4,5,6,7],[10,20,30,40,50,60,70]))\n",
        "print(add_even_odd([1,2,3,4,5,6,7],[11,21,31,41,51,60,70]))\n",
        "print(strip_vowels(\"tsai\"))\n",
        "print(relu([-1,2,-3,4,5,6,7]))\n",
        "print(sigmoid([-1,2,-3,4,5,6,7, 100]))\n",
        "print(shift(5, 'vwxyz'))\n",
        "print(shift(5, 'divya'))"
      ],
      "execution_count": 11,
      "outputs": [
        {
          "output_type": "stream",
          "text": [
            "[]\n",
            "[13, 25, 37]\n",
            "t s\n",
            "[0, 2, 0, 4, 5, 6, 7]\n",
            "[0.2689414213699951, 0.8807970779778823, 0.04742587317756678, 0.9820137900379085, 0.9933071490757153, 0.9975273768433653, 0.9990889488055994, 1.0]\n",
            "abcde\n",
            "inadf\n"
          ],
          "name": "stdout"
        }
      ]
    },
    {
      "cell_type": "markdown",
      "metadata": {
        "id": "btOww31q8v0m"
      },
      "source": [
        "### Profanity Check"
      ]
    },
    {
      "cell_type": "code",
      "metadata": {
        "id": "F49cOZnl8qSJ"
      },
      "source": [
        "#Function to get list of profanity words from Google profanity URL\n",
        "def profanitytextfile():\n",
        "    url = \"https://github.com/RobertJGabriel/Google-profanity-words/blob/master/list.txt\"\n",
        "    html = urlopen(url).read()\n",
        "    soup = BeautifulSoup(html, features=\"html.parser\")\n",
        "\n",
        "    textlist = []\n",
        "    table = soup.find('table')\n",
        "    trs = table.find_all('tr')\n",
        "    for tr in trs:\n",
        "        tds = tr.find_all('td')\n",
        "        for td in tds:\n",
        "            textlist.append(td.text)\n",
        "    return textlist\n",
        "\n",
        "#Checks whether a given para contains any words present in the google profanity list\n",
        "profanity_words  = lambda para, textlist: bool([word for word in para.split() if word in textlist])\n",
        "\n"
      ],
      "execution_count": null,
      "outputs": []
    },
    {
      "cell_type": "code",
      "metadata": {
        "id": "UFNeQRhjdZJF",
        "outputId": "c80896cd-dd13-4116-80dc-c316d1761c3d",
        "colab": {
          "base_uri": "https://localhost:8080/"
        }
      },
      "source": [
        "textlist = profanitytextfile()\n",
        "sentence = 'If you actually care abo. dds dsdsd. If you fuck actually car'\n",
        "words_in_para = [word for word in sentence.split()]\n",
        "profanity_words  = [word for word in words_in_para if word in textlist]\n",
        "print(bool(profanity_words))"
      ],
      "execution_count": 13,
      "outputs": [
        {
          "output_type": "stream",
          "text": [
            "True\n"
          ],
          "name": "stdout"
        }
      ]
    },
    {
      "cell_type": "markdown",
      "metadata": {
        "id": "t_5evFlY88mB"
      },
      "source": [
        "### Reduce Functions"
      ]
    },
    {
      "cell_type": "code",
      "metadata": {
        "id": "9qcPo-wI8zN2"
      },
      "source": [
        "#add only even numbers in a list\n",
        "sum_of_even_nos = lambda listofnos: reduce((lambda x,y: x+y),[no for no in listofnos if no%2 == 0])\n",
        "\n",
        "#find the biggest character in a string (printable ascii characters)\n",
        "bigChar = lambda word: reduce(lambda x,y: chr(max( ord(x), ord(y))),[char for char in word])\n",
        "\n",
        "#adds every 3rd number in a list\n",
        "#Using slicing to find every 3rd element\n",
        "sum_of_every_3rdnos = lambda listofnos: reduce((lambda x,y: x+y),listofnos[0::3])\n"
      ],
      "execution_count": null,
      "outputs": []
    },
    {
      "cell_type": "code",
      "metadata": {
        "id": "SoSYGH3eegUT",
        "outputId": "d335d749-cb34-41f8-9878-588c436e619c",
        "colab": {
          "base_uri": "https://localhost:8080/"
        }
      },
      "source": [
        "#Testing\n",
        "\n",
        "print(bigChar('ABCDEa is big word'))\n",
        "li = [1,2,3,4,5,6,7]\n",
        "print(li[::2])\n",
        "print(sum_of_every_3rdnos([1,2,3,4,5,6,7]))"
      ],
      "execution_count": 20,
      "outputs": [
        {
          "output_type": "stream",
          "text": [
            "w\n",
            "[1, 3, 5, 7]\n",
            "12\n"
          ],
          "name": "stdout"
        }
      ]
    },
    {
      "cell_type": "markdown",
      "metadata": {
        "id": "tp6Oq_hl9M2b"
      },
      "source": [
        "### Partial Functions"
      ]
    },
    {
      "cell_type": "markdown",
      "metadata": {
        "id": "Buz0XV2B9L0g"
      },
      "source": [
        "Using randint, random.choice and list comprehensions, an expression is written that generates 15 random KADDAADDDD number plates, where KA is fixed, D stands for a digit, \n",
        "  and A stands for Capital alphabets. 10<<DD<<99 & 1000<<DDDD<<9999 \n",
        "\n",
        "Function where KA can be changed to DL, and 1000/9999 ranges can be provided.  "
      ]
    },
    {
      "cell_type": "code",
      "metadata": {
        "id": "OnVN2PEA9CvL"
      },
      "source": [
        "generatelicenseplates = [\"KA\"+str(random.randint(10, 99))+''.join(random.choice(string.ascii_uppercase) for i in range(2))+str(random.randint(1000,9999)) for i in range(15)]\n",
        "\n",
        "def generatenumberplates(start=1000, end=9999):\n",
        "    def generateforstate(state='KA'):\n",
        "        return [state + str(random.randint(10, 99))+''.join(random.choice(string.ascii_uppercase) for i in range(2))+str(random.randint(1000,9999)) for i in range(15)]\n",
        "    return generateforstate"
      ],
      "execution_count": 18,
      "outputs": []
    },
    {
      "cell_type": "code",
      "metadata": {
        "id": "nY6EWik3eAWp",
        "outputId": "db72ce8d-ed92-40fb-efa2-9f36d03cc437",
        "colab": {
          "base_uri": "https://localhost:8080/"
        }
      },
      "source": [
        "print(generatelicenseplates)\n",
        "\n",
        "#By default it generates for state 'KA\"\n",
        "print(generatenumberplates()())\n",
        "\n",
        "print(generatenumberplates()(state='DL'))\n",
        "print(generatenumberplates()(state='TN'))\n"
      ],
      "execution_count": 19,
      "outputs": [
        {
          "output_type": "stream",
          "text": [
            "['KA92PP8987', 'KA74ZX6801', 'KA19EQ4754', 'KA42RK7259', 'KA97YM5109', 'KA79WQ4856', 'KA15EK6050', 'KA81JC8932', 'KA42BA4907', 'KA80TW2328', 'KA97HH8449', 'KA95NJ8318', 'KA82UG4296', 'KA99ZE7813', 'KA20RJ5471']\n",
            "['KA13SE7452', 'KA22WF9804', 'KA12XV2737', 'KA68PG5861', 'KA29NB2559', 'KA76NQ3693', 'KA95TR7252', 'KA83DU9579', 'KA35SH8994', 'KA15PP9998', 'KA75TB8149', 'KA79VE3613', 'KA47HV8990', 'KA45NB4256', 'KA88RR5197']\n",
            "['DL69EG3605', 'DL27UL4598', 'DL78SI8708', 'DL64BF1739', 'DL97TA9039', 'DL16RZ7116', 'DL93VM6955', 'DL51XC4792', 'DL71CZ8090', 'DL46LU9496', 'DL42UI3831', 'DL33BV4590', 'DL45II1669', 'DL73VM2910', 'DL33HP5569']\n",
            "['TN89PX3618', 'TN96YY6309', 'TN52BJ9951', 'TN77XA5303', 'TN40VP5680', 'TN37RC9438', 'TN31VC2841', 'TN37GT4834', 'TN72RH6586', 'TN86HU9366', 'TN87LU3399', 'TN86FN8727', 'TN30ML8600', 'TN21EP3512', 'TN27TX8073']\n"
          ],
          "name": "stdout"
        }
      ]
    },
    {
      "cell_type": "code",
      "metadata": {
        "id": "eEcUBHrveYxF"
      },
      "source": [
        ""
      ],
      "execution_count": null,
      "outputs": []
    }
  ]
}